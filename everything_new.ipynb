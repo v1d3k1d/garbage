{
 "cells": [
  {
   "cell_type": "code",
   "execution_count": null,
   "metadata": {},
   "outputs": [],
   "source": [
    "import pandas as pd\n",
    "import seaborn as sns\n",
    "import matplotlib.pyplot as plt"
   ]
  },
  {
   "cell_type": "code",
   "execution_count": null,
   "metadata": {},
   "outputs": [],
   "source": [
    "from sklearn.linear_model import LinearRegression\n",
    "from sklearn.model_selection import train_test_split\n",
    "from sklearn.metrics import mean_absolute_error, mean_squared_error, r2_score\n",
    "\n",
    "from sklearn.linear_model import LogisticRegression\n",
    "from sklearn import preprocessing\n",
    "from sklearn.metrics import accuracy_score, precision_score, recall_score\n",
    "\n",
    "from sklearn.cluster import KMeans\n",
    "from sklearn.tree import DecisionTreeClassifier"
   ]
  },
  {
   "cell_type": "code",
   "execution_count": null,
   "metadata": {},
   "outputs": [],
   "source": [
    "from pandas import read_csv\n",
    "from pandas.plotting import scatter_matrix\n",
    "from matplotlib import pyplot\n",
    "from sklearn.model_selection import train_test_split\n",
    "from sklearn.model_selection import cross_val_score\n",
    "from sklearn.model_selection import StratifiedKFold\n",
    "from sklearn.metrics import classification_report\n",
    "from sklearn.metrics import confusion_matrix\n",
    "from sklearn.metrics import accuracy_score\n",
    "from sklearn.linear_model import LogisticRegression\n",
    "from sklearn.tree import DecisionTreeClassifier\n",
    "from sklearn.neighbors import KNeighborsClassifier\n",
    "from sklearn.discriminant_analysis import LinearDiscriminantAnalysis\n",
    "from sklearn.naive_bayes import GaussianNB\n",
    "from sklearn.svm import SVC"
   ]
  },
  {
   "cell_type": "markdown",
   "metadata": {},
   "source": [
    "# Исследование данных"
   ]
  },
  {
   "cell_type": "code",
   "execution_count": null,
   "metadata": {},
   "outputs": [],
   "source": [
    "train = pd.read_csv(\"train.csv\")\n",
    "test = pd.read_csv(\"test.csv\")\n",
    "\n",
    "print(f\"train: {train.shape}\")\n",
    "print(f\"test: {test.shape}\")"
   ]
  },
  {
   "cell_type": "code",
   "execution_count": null,
   "metadata": {},
   "outputs": [],
   "source": [
    "print(\"Число пропусков в train:\")\n",
    "print(train.isna().sum())\n",
    "print(\"Число пропусков в test:\")\n",
    "print(test.isna().sum())"
   ]
  },
  {
   "cell_type": "code",
   "execution_count": null,
   "metadata": {},
   "outputs": [],
   "source": [
    "df.head # Краткая сводка первичной информации\n",
    "df.shape # мы увидим информацию о размерности нашего датафрейма \n",
    "df.info() # покажет информацию о размерности данных \n",
    "          # описание индекса, количество not-a-number элементов \n",
    "df.describe() # показывает статистики count, mean, std, min, 25%-50%-75% percentile, max \n",
    "df.nunique() # количество уникальных значений для каждого столбца "
   ]
  },
  {
   "cell_type": "code",
   "execution_count": null,
   "metadata": {},
   "outputs": [],
   "source": [
    "# Количество каждого уникального значения для каждого столбца в наборе данных:\n",
    "feature_names = df.columns.tolist() \n",
    "for column in feature_names: \n",
    "    print column \n",
    "    print df[column].value_counts(dropna=False)"
   ]
  },
  {
   "cell_type": "markdown",
   "metadata": {},
   "source": [
    "# Предобработка данных"
   ]
  },
  {
   "cell_type": "code",
   "execution_count": null,
   "metadata": {},
   "outputs": [],
   "source": [
    "# Если нужно объединить датасеты\n",
    "formula_train = formula_train.drop(columns=['critical_temp']) # Удаляешь не нужные колонки\n",
    "train_full = pd.concat([train, formula_train], axis=1) # Объединяешь\n",
    "print(f\"Full Train dataset shape: {train_full.shape}\") # Проверяешь"
   ]
  },
  {
   "cell_type": "code",
   "execution_count": null,
   "metadata": {},
   "outputs": [],
   "source": [
    "# Удалим не нужные колонки из данных\n",
    "df.drop(columns=['Название колонок'], inplace=True)"
   ]
  },
  {
   "cell_type": "code",
   "execution_count": null,
   "metadata": {},
   "outputs": [],
   "source": [
    "# Проверка баланса классов если нужно (50% на 50% идеально) (категориальные признаки)\n",
    "# Лучше всего добавлять в меньший класс данные (oversampling)\n",
    "# Дублирование объектов, Генерация синтетических объектов, imblearn\n",
    "df['Название колонки'].value_counts() # Посмотреть распределение для выбранной колонки\n",
    "\n",
    "from imblearn.over_sampling import SMOTE\n",
    "\n",
    "# Применение SMOTE для балансировки классов\n",
    "X_resampled, y_resampled = SMOTE().fit_resample(X, y) # но это уже перед обучением модели если надо будет"
   ]
  },
  {
   "cell_type": "code",
   "execution_count": null,
   "metadata": {},
   "outputs": [],
   "source": [
    "# Превращаем строковые данные в числовые\n",
    "# Разложение строки на несколько строк если в ней есть несколько переменных а не по одной в строке\n",
    "# Выбрем признаки, которые являются категориальными (строковыми)\n",
    "cat_features = train.loc[:, train.dtypes == object].columns\n",
    "\n",
    "categ = ['', '', ''] # Список всех столбцов для преобразования\n",
    "for col in categ:\n",
    "    le = preprocessing.LabelEncoder()\n",
    "    train[col] = le.fit_transform(train[col])\n",
    "    test[col] = le.transform(test[col])\n",
    "#train = pd.get_dummies(train, columns=['hotel', 'market_segment', 'deposit_type']) Если нужно разложение на несколько\n",
    "train.head()"
   ]
  },
  {
   "cell_type": "code",
   "execution_count": null,
   "metadata": {},
   "outputs": [],
   "source": [
    "# Scikit-learn предоставляет реализацию для обработки пропусков\n",
    "from sklearn.preprocessing import Imputer\n",
    "imputer = Imputer(missing_values = 'NaN', strategy = 'mean', axis = 0)\n",
    "imputer.fit(features)\n",
    "features = imputer.transform(features)"
   ]
  },
  {
   "cell_type": "code",
   "execution_count": null,
   "metadata": {},
   "outputs": [],
   "source": [
    "# Заполним пропуски с помощью среднего значения\n",
    "col_missing = ['', '', ''] # Название столбцов где есть пропуски\n",
    "\n",
    "for i in col_missing:\n",
    "    df[i].fillna(df[i].mean(), inplace=True)\n",
    "\n",
    "df.isna().sum()"
   ]
  },
  {
   "cell_type": "code",
   "execution_count": null,
   "metadata": {},
   "outputs": [],
   "source": [
    "# Поиск неявных дубликатов только для пола\n",
    "male_terms = [\"male\", \"m\", \"mal\", \"msle\", \"malr\", \"mail\", \"make\", \"cis male\", \"man\", \"maile\", \"male (cis)\", \"cis man\"] \n",
    "female_terms = [\"female\", \"f\", \"woman\", \"femake\", \"femaile\", \"femake\", \"cis female\", \"cis-female/femme\", \"female (cis)\", \"femail\", \"cis woman\"] \n",
    "\n",
    "def clean_gender(response): \n",
    "    if response.lower().rstrip() in male_terms: \n",
    "        return \"Male\" \n",
    "    elif response.lower().rstrip() in female_terms: \n",
    "        return \"Female\" \n",
    "    else:  \n",
    "        return \"Other\" \n",
    "\n",
    "df['Gender'] = df[\"Gender\"].apply(lambda x: clean_gender(x)) "
   ]
  },
  {
   "cell_type": "code",
   "execution_count": null,
   "metadata": {},
   "outputs": [],
   "source": [
    "# Обнаружение выбросов только для Age для других сам думай\n",
    "df.Age.loc [(df.Age <14) | (df.Age> 100)] = np.nan"
   ]
  },
  {
   "cell_type": "code",
   "execution_count": null,
   "metadata": {},
   "outputs": [],
   "source": [
    "# Кодирование данных\n",
    "from sklearn import preprocessing \n",
    "label_encoder = preprocessing.LabelEncoder() \n",
    "label_encoder.fit(df['leave']) \n",
    "label_encoder.transform(df['leave'])"
   ]
  },
  {
   "cell_type": "code",
   "execution_count": null,
   "metadata": {},
   "outputs": [],
   "source": [
    "# get_dummies\n",
    "# Using Pandas\n",
    "import pandas as pd \n",
    "pd.get_dummies(features['leave']) \n",
    "\n",
    "# Using sklearn \n",
    "from sklearn.preprocessing import LabelEncoder, OneHotEncoder \n",
    "label_encoder = LabelEncoder()   \n",
    "ohe = OneHotEncoder(categorical_features = ['leave'])  \n",
    "label_encoded_data = label_encoder.fit_transform(features['leave']) \n",
    "ohe.fit_transform(label_encoded_data.reshape(-1,1)) "
   ]
  },
  {
   "cell_type": "markdown",
   "metadata": {},
   "source": [
    "ML алгоритмы, которые требуют нормализации данных:\n",
    "Логистическая регрессия\n",
    "Метод опорных векторов\n",
    "Нейронная сеть\n",
    "PCA\n",
    "\n",
    "ML алгоритмы, которые не требуют нормализации данных:\n",
    "Деревья принятия решений (и случайные леса)\n",
    "Градиентный бустинг\n",
    "Наивный Байес"
   ]
  },
  {
   "cell_type": "code",
   "execution_count": null,
   "metadata": {},
   "outputs": [],
   "source": [
    "# Нормализация\n",
    "# Feature scaling with StandardScaler \n",
    "from sklearn.preprocessing import StandardScaler \n",
    "scale_features_std = StandardScaler() \n",
    "features_train = scale_features_std.fit_transform(features_train) \n",
    "features_test = scale_features_std.transform(features_test) \n",
    "\n",
    "# Feature scaling with MinMaxScaler \n",
    "from sklearn.preprocessing import MinMaxScaler \n",
    "scale_features_mm = MinMaxScaler() \n",
    "features_train = scale_features_mm.fit_transform(features_train) \n",
    "features_test = scale_features_mm.transform(features_test) "
   ]
  },
  {
   "cell_type": "code",
   "execution_count": null,
   "metadata": {},
   "outputs": [],
   "source": [
    "# Логарифмирование\n",
    "# логарифмирование применяется только к положительным числам.\n",
    "price = data.price\n",
    "y = np.log(price)"
   ]
  },
  {
   "cell_type": "code",
   "execution_count": null,
   "metadata": {},
   "outputs": [],
   "source": [
    "# Под конец все проверяем\n",
    "train.head()"
   ]
  },
  {
   "cell_type": "code",
   "execution_count": null,
   "metadata": {},
   "outputs": [],
   "source": [
    "train.info()"
   ]
  },
  {
   "cell_type": "code",
   "execution_count": null,
   "metadata": {},
   "outputs": [],
   "source": [
    "# Распределение классов\n",
    "# Распределение по атрибуту class\n",
    "print(dataset.groupby('class').size())"
   ]
  },
  {
   "cell_type": "markdown",
   "metadata": {},
   "source": [
    "# Обучение"
   ]
  },
  {
   "cell_type": "code",
   "execution_count": null,
   "metadata": {},
   "outputs": [],
   "source": [
    "# Выделим из набора данных вектор признаков и вектор ответов\n",
    "find_column = 'Столбец который нужно предсказать'\n",
    "X = train.drop(columns=[find_column])\n",
    "y = train[find_column]\n",
    "\n",
    "print(f\"Features shape: {X.shape}\")\n",
    "print(f\"Target shape: {y.shape}\")"
   ]
  },
  {
   "cell_type": "code",
   "execution_count": null,
   "metadata": {},
   "outputs": [],
   "source": [
    "# Делим датасет для его дальнейшего обучения Если один датасет\n",
    "do_this = False\n",
    "if do_this:\n",
    "    X_train, X_test, y_train, y_test = train_test_split(X, y, test_size=0.3)\n",
    "\n",
    "    print(f'Train dataset size: {X_train.shape}, {y_train.shape}')\n",
    "    print(f'Test dataset size: {X_test.shape}, {y_test.shape}')"
   ]
  },
  {
   "cell_type": "markdown",
   "metadata": {},
   "source": [
    "# Выбор модели"
   ]
  },
  {
   "cell_type": "code",
   "execution_count": null,
   "metadata": {},
   "outputs": [],
   "source": [
    "# Загружаем алгоритмы модели\n",
    "models = []\n",
    "models.append(('LR', LogisticRegression(solver='liblinear', multi_class='ovr')))\n",
    "models.append(('LDA', LinearDiscriminantAnalysis()))\n",
    "models.append(('KNN', KNeighborsClassifier()))\n",
    "models.append(('CART', DecisionTreeClassifier()))\n",
    "models.append(('NB', GaussianNB()))\n",
    "models.append(('SVM', SVC(gamma='auto')))\n",
    "\n",
    "# оцениваем модель на каждой итерации\n",
    "results = []\n",
    "names = []\n",
    "\n",
    "for name, model in models:\n",
    "\tkfold = StratifiedKFold(n_splits=10, random_state=1, shuffle=True)\n",
    "\tcv_results = cross_val_score(model, X_train, Y_train, cv=kfold, scoring='accuracy')\n",
    "\tresults.append(cv_results)\n",
    "\tnames.append(name)\n",
    "\tprint('%s: %f (%f)' % (name, cv_results.mean(), cv_results.std()))"
   ]
  },
  {
   "cell_type": "code",
   "execution_count": null,
   "metadata": {},
   "outputs": [],
   "source": [
    "# Сравниванием алгоритмы\n",
    "pyplot.boxplot(results, labels=names)\n",
    "pyplot.title('Algorithm Comparison')\n",
    "pyplot.show()"
   ]
  },
  {
   "attachments": {
    "image.png": {
     "image/png": "[encoded data removed]"
    }
   },
   "cell_type": "markdown",
   "metadata": {},
   "source": [
    "![image.png](attachment:image.png)"
   ]
  },
  {
   "cell_type": "code",
   "execution_count": null,
   "metadata": {},
   "outputs": [],
   "source": [
    "# Создадим модель линейной регрессии\n",
    "model = LinearRegression() # Используем когда нужно найти числовое значение переменной (Регрессия)\n",
    "model = LogisticRegression() # классификация\n",
    "model = DecisionTreeClassifier() # Создадим модель дерева решений\n",
    "\n",
    "# Обучение модели на данных\n",
    "model.fit(X, y)\n",
    "\n",
    "# Предсказание и проверка значений\n",
    "answers_pred = model.predict(X)"
   ]
  },
  {
   "cell_type": "code",
   "execution_count": null,
   "metadata": {},
   "outputs": [],
   "source": [
    "# Кластеризация\n",
    "n_clusters = 10\n",
    "clusterer = KMeans(n_clusters=n_clusters)\n",
    "cluster_labels = clusterer.fit_predict(df)\n",
    "inertia = clusterer.inertia_"
   ]
  },
  {
   "cell_type": "code",
   "execution_count": null,
   "metadata": {},
   "outputs": [],
   "source": [
    "# Метрики для регрессии\n",
    "print('Mean Absolute Error:', mean_absolute_error(y_test, y_pred))\n",
    "print('Mean Squared Error:', mean_squared_error(y_test, y_pred))\n",
    "print('R2 score:', r2_score(y_test, y_pred))"
   ]
  },
  {
   "cell_type": "code",
   "execution_count": null,
   "metadata": {},
   "outputs": [],
   "source": [
    "# Метрики для классификации\n",
    "# answers_pred - ответы которые вернула модель для X_test\n",
    "# y_test - это правильные ответы для X_test\n",
    "print(f'Accuracy: {accuracy_score(y, answers_pred)}')\n",
    "print(f'Precision: {precision_score(y, answers_pred)}')\n",
    "print(f'Recall: {recall_score(y, answers_pred)}')"
   ]
  },
  {
   "cell_type": "code",
   "execution_count": null,
   "metadata": {},
   "outputs": [],
   "source": [
    "# Сохранение результатов\n",
    "y_pred_test = model.predict(test)\n",
    "y_pred_test = pd.DataFrame(y_pred_test, columns=['Название колонки'])\n",
    "y_pred_test = y_pred_test.reset_index()\n",
    "y_pred_test.to_csv(\"solution.csv\", index=False)"
   ]
  },
  {
   "cell_type": "markdown",
   "metadata": {},
   "source": [
    "# Прогнозирование"
   ]
  },
  {
   "cell_type": "code",
   "execution_count": null,
   "metadata": {},
   "outputs": [],
   "source": [
    "# Создаем прогноз на контрольной выборке\n",
    "model = SVC(gamma='auto')\n",
    "model.fit(X_train, Y_train)\n",
    "predictions = model.predict(X_validation)"
   ]
  },
  {
   "cell_type": "code",
   "execution_count": null,
   "metadata": {},
   "outputs": [],
   "source": [
    "# Оцениваем прогноз\n",
    "print(accuracy_score(Y_validation, predictions))\n",
    "print(confusion_matrix(Y_validation, predictions))\n",
    "print(classification_report(Y_validation, predictions))"
   ]
  },
  {
   "attachments": {
    "image.png": {
     "image/png": "[encoded data removed]"
    }
   },
   "cell_type": "markdown",
   "metadata": {},
   "source": [
    "![image.png](attachment:image.png)"
   ]
  },
  {
   "cell_type": "code",
   "execution_count": null,
   "metadata": {},
   "outputs": [],
   "source": [
    "import joblib\n",
    "\n",
    "# Сохранение модели в файл\n",
    "filename = 'finalized_model.sav'\n",
    "joblib.dump(model, filename)\n",
    "\n",
    "# Загрузка модели из файла\n",
    "loaded_model = joblib.load(filename)\n",
    "result = loaded_model.score(X_test, Y_test)\n",
    "print(result)"
   ]
  }
 ],
 "metadata": {
  "kernelspec": {
   "display_name": "Python 3",
   "language": "python",
   "name": "python3"
  },
  "language_info": {
   "codemirror_mode": {
    "name": "ipython",
    "version": 3
   },
   "file_extension": ".py",
   "mimetype": "text/x-python",
   "name": "python",
   "nbconvert_exporter": "python",
   "pygments_lexer": "ipython3",
   "version": "3.10.6"
  }
 },
 "nbformat": 4,
 "nbformat_minor": 2
}
